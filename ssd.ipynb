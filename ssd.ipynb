{
  "nbformat": 4,
  "nbformat_minor": 0,
  "metadata": {
    "colab": {
      "provenance": [],
      "authorship_tag": "ABX9TyO3g8ncZJm+ap/0f8/HuiZb",
      "include_colab_link": true
    },
    "kernelspec": {
      "name": "python3",
      "display_name": "Python 3"
    },
    "language_info": {
      "name": "python"
    }
  },
  "cells": [
    {
      "cell_type": "markdown",
      "metadata": {
        "id": "view-in-github",
        "colab_type": "text"
      },
      "source": [
        "<a href=\"https://colab.research.google.com/github/sachikamat/Object-Detection/blob/main/ssd.ipynb\" target=\"_parent\"><img src=\"https://colab.research.google.com/assets/colab-badge.svg\" alt=\"Open In Colab\"/></a>"
      ]
    },
    {
      "cell_type": "code",
      "execution_count": 18,
      "metadata": {
        "id": "rm-FbDZi1gQW"
      },
      "outputs": [],
      "source": [
        "import os \n",
        "import time\n",
        "import tensorflow as tf\n",
        "import cv2 as cv\n",
        "import numpy as np"
      ]
    },
    {
      "cell_type": "code",
      "source": [
        "from google.colab import drive\n",
        "drive.mount('/content/drive')"
      ],
      "metadata": {
        "colab": {
          "base_uri": "https://localhost:8080/"
        },
        "id": "rcSZ320G5s_P",
        "outputId": "f899e9e1-2bca-46c8-f5ba-9e141c7de295"
      },
      "execution_count": 19,
      "outputs": [
        {
          "output_type": "stream",
          "name": "stdout",
          "text": [
            "Drive already mounted at /content/drive; to attempt to forcibly remount, call drive.mount(\"/content/drive\", force_remount=True).\n"
          ]
        }
      ]
    },
    {
      "cell_type": "code",
      "source": [
        "from google.colab.patches import cv2_imshow\n",
        "\n",
        "root_dir ='/content/drive/MyDrive/Fellowship/Sachi/Object_Detection/'\n",
        "image = root_dir+'sample_img/sample_person.jpg'\n",
        "class_txt = root_dir+'mscoco_label_map.pbtxt'\n",
        "saved_model = root_dir+'SSD/ssd_saved_model.pb'"
      ],
      "metadata": {
        "id": "xSKvK1nM5tXi"
      },
      "execution_count": 23,
      "outputs": []
    },
    {
      "cell_type": "code",
      "source": [
        "img = cv.imread(image)\n",
        "# Size of the image\n",
        "height,width = img.shape[:2]\n",
        "scale = 1/255"
      ],
      "metadata": {
        "id": "pPmX6h0m513B"
      },
      "execution_count": 21,
      "outputs": []
    },
    {
      "cell_type": "code",
      "source": [
        "#Read class names from text file and store as an array\n",
        "classes = None\n",
        "\n",
        "with open(class_txt,'r') as f:\n",
        "    classes = [line.strip() for line in f.readlines()]"
      ],
      "metadata": {
        "id": "klqbP0E_53-R"
      },
      "execution_count": 24,
      "outputs": []
    },
    {
      "cell_type": "code",
      "source": [
        "#Generate different color for each class\n",
        "COLORS = np.random.uniform(0,255, size =(len(classes), 3))"
      ],
      "metadata": {
        "id": "DwfJ7EJ65-3c"
      },
      "execution_count": 25,
      "outputs": []
    },
    {
      "cell_type": "code",
      "source": [
        "# Load saved model and build the detection function"
      ],
      "metadata": {
        "id": "PMb9Djwq6Aze"
      },
      "execution_count": null,
      "outputs": []
    }
  ]
}